{
 "cells": [
  {
   "cell_type": "markdown",
   "metadata": {},
   "source": [
    "# Dataset Exploration Notebook\n",
    "\n",
    "## Introduction\n",
    "This notebook demonstrates the process of securely accessing a dataset stored in Google Sheets using the Google Cloud Platform (GCP) Service Account. This initial section outlines key milestones achieved to set up a secure and efficient workflow for this project.\n",
    "\n",
    "## Milestones Achieved\n",
    "1. **GCP Service Account Configuration**:\n",
    "   - Successfully created and configured a GCP Service Account to access the Google Sheets API.\n",
    "   - Shared the dataset file in Google Sheets with the service account email to grant edit permissions.\n",
    "\n",
    "2. **Secure Credential Management**:\n",
    "   - Implemented the use of environment variables to securely store and access the path to the service account JSON file.\n",
    "   - Ensured the JSON credentials file is not committed to the repository by:\n",
    "     - Adding the `secrets/` directory and `.env` file to the `.gitignore`.\n",
    "     - Setting up environment variables dynamically during virtual environment activation.\n",
    "\n",
    "3. **Virtual Environment Setup**:\n",
    "   - Created and utilized a Python virtual environment for package management.\n",
    "   - Ensured the virtual environment includes all required dependencies, isolating the project environment from the global system.\n",
    "\n",
    "4. **Data Access**:\n",
    "   - Successfully retrieved the dataset from Google Sheets into a Pandas DataFrame for analysis, confirming seamless integration between GCP and the project.\n",
    "\n",
    "\n",
    "\n",
    "---\n"
   ]
  },
  {
   "cell_type": "markdown",
   "metadata": {},
   "source": [
    "The code below does the following:\n",
    "- Imports the necessary libraries: \n",
    "\n",
    "    -`os` to extract environment variables.\n",
    "\n",
    "    -`Credentials` class from the `google.oauth2.service_account` module for authenticating the service account."
   ]
  },
  {
   "cell_type": "code",
   "execution_count": 3,
   "metadata": {},
   "outputs": [],
   "source": [
    "import os\n",
    "from google.oauth2.service_account import Credentials\n",
    "\n",
    "# Get the path from the environment variable\n",
    "json_path = os.getenv(\"GOOGLE_APPLICATION_CREDENTIALS\")\n"
   ]
  },
  {
   "cell_type": "markdown",
   "metadata": {},
   "source": [
    "The 'GOOGLE_APPLICATION_CREDENTIALS' environment variable is set to the path of the service account JSON file. This variable is used by the Google Cloud client libraries to locate the service account credentials.\n",
    "\n",
    "Now, as the next step we can import the following libraries:\n",
    "\n",
    "- `gspread` to interact with Google Sheets.\n",
    "- `pandas` to work with the dataset.\n",
    "\n",
    "\n",
    "Also, some classes, such as `Credentials` from the `google.oauth2.service_account` module, and `Request` from the `google.auth.transport.requests` module are imported to authenticate the service account and make requests to the Google Sheets API.\n",
    "\n"
   ]
  },
  {
   "cell_type": "code",
   "execution_count": 4,
   "metadata": {},
   "outputs": [],
   "source": [
    "import gspread\n",
    "from google.auth.transport.requests import Request\n",
    "from google.oauth2.service_account import Credentials\n",
    "import pandas as pd"
   ]
  },
  {
   "cell_type": "markdown",
   "metadata": {},
   "source": [
    "Now, we will get the environment variable that holds the path to the gcp service account .json file, which is not commited to this repository (included in the .gitignore file). If you wish to do the same I recommend to edit the activate script of your virtual environment to set the environment variable every time you activate it. \n",
    "\n",
    "the `getenv` function from the `os` module is used to get the value of the 'GOOGLE_APPLICATION_CREDENTIALS' environment variable and saves it into the `json_path` variable."
   ]
  },
  {
   "cell_type": "code",
   "execution_count": 5,
   "metadata": {},
   "outputs": [],
   "source": [
    "json_path = os.getenv(\"GOOGLE_APPLICATION_CREDENTIALS\")\n",
    "if not json_path:\n",
    "    raise FileNotFoundError(\"Environment variable GOOGLE_APPLICATION_CREDENTIALS is not set or file path is invalid.\")"
   ]
  },
  {
   "cell_type": "markdown",
   "metadata": {},
   "source": [
    "then, the `json_path` variable is used to authenticate the service account and access the Google Sheets API. The `Credentials.from_service_account_file` method is used to create credentials from the service account JSON file."
   ]
  },
  {
   "cell_type": "code",
   "execution_count": 6,
   "metadata": {},
   "outputs": [],
   "source": [
    "# Step 2: Authenticate using the service account JSON file\n",
    "scopes = [\"https://www.googleapis.com/auth/spreadsheets.readonly\"]\n",
    "credentials = Credentials.from_service_account_file(json_path, scopes=scopes)"
   ]
  },
  {
   "cell_type": "markdown",
   "metadata": {},
   "source": [
    "now the `gspread.authorize` method is used to authenticate the service account and access the Google Sheets API. \n",
    "\n",
    "this information is saved in the `client` variable, which is used to access the Google Sheets API."
   ]
  },
  {
   "cell_type": "code",
   "execution_count": 7,
   "metadata": {},
   "outputs": [],
   "source": [
    "# Step 3: Authorize the gspread client\n",
    "client = gspread.authorize(credentials)"
   ]
  },
  {
   "cell_type": "markdown",
   "metadata": {},
   "source": [
    "now, we can pass the spreadsheet url to the `open_by_url` method of the `client` object to access the Google Sheets file. "
   ]
  },
  {
   "cell_type": "code",
   "execution_count": 8,
   "metadata": {},
   "outputs": [],
   "source": [
    "# Step 4: Open the Google Sheet by URL\n",
    "spreadsheet_url = \"https://docs.google.com/spreadsheets/d/1f7jIcEzhLiO2EhVZro8oUdNgm2AGaC5po8QNiuQggG4/edit?usp=sharing\"\n",
    "spreadsheet = client.open_by_url(spreadsheet_url)"
   ]
  },
  {
   "cell_type": "markdown",
   "metadata": {},
   "source": [
    "Now we select the first worksheet of the Google Sheets file using the `get_worksheet` method of the `spreadsheet` object."
   ]
  },
  {
   "cell_type": "code",
   "execution_count": 9,
   "metadata": {},
   "outputs": [],
   "source": [
    "# Step 5: Select the worksheet (e.g., first worksheet)\n",
    "worksheet = spreadsheet.get_worksheet(0)"
   ]
  },
  {
   "cell_type": "markdown",
   "metadata": {},
   "source": [
    "Once the worksheet is selected, we can fetch all the records from the worksheets as a list of dictionaries. This is done using the `get_all_records` method of the `worksheet` object.\n",
    "\n",
    "Then, we can convert the list of dictionaries to a Pandas DataFrame using the `pd.DataFrame` constructor. This will allow us to perform data analysis and visualization on the dataset.\n",
    "\n",
    "Finally, we can display the first few rows of the dataset using the `head` method of the Pandas DataFrame.  \n"
   ]
  },
  {
   "cell_type": "code",
   "execution_count": null,
   "metadata": {},
   "outputs": [],
   "source": [
    "# Step 6: Load data into a pandas DataFrame\n",
    "data = worksheet.get_all_records()\n",
    "df = pd.DataFrame(data)\n",
    "\n",
    "# Display the first few rows\n",
    "print(df.head())\n"
   ]
  },
  {
   "cell_type": "markdown",
   "metadata": {},
   "source": [
    "Now that we have access to the data, we can proceed to do some Exploratory Data Analysis."
   ]
  },
  {
   "cell_type": "markdown",
   "metadata": {},
   "source": [
    "# Exploratory Data Analysis\n",
    "\n",
    "The particular interest of this project is explore information related to what disntinguishes claim videos from opinion videos.\n",
    "\n",
    "Now we will assess the data. we already checked the dataset contents using the .head() method, now we will check the data types of the columns using the .info() method."
   ]
  },
  {
   "cell_type": "code",
   "execution_count": null,
   "metadata": {},
   "outputs": [],
   "source": [
    "df.info(\n",
    ")"
   ]
  },
  {
   "cell_type": "markdown",
   "metadata": {},
   "source": [
    "Descriptive statistics can also be used in this stage of EDA to summarize the central tendency, dispersion, and shape of the dataset’s distribution. This can be done using the .describe() method."
   ]
  },
  {
   "cell_type": "code",
   "execution_count": null,
   "metadata": {},
   "outputs": [],
   "source": [
    "df.describe()"
   ]
  },
  {
   "cell_type": "markdown",
   "metadata": {},
   "source": [
    "## Analyisis of numerical variables\n",
    "\n",
    "Now to assess the distributions of the variables and identify outliers, we can create box plots for the numerical columns and histograms for the categorical columns. \n",
    "\n",
    "To organize this process we can separate the numerical variables and assess them first, the numerical variables are:\n",
    "\n",
    "* video_duration_sec \n",
    "* video_view_count         \n",
    "* video_like_count           \n",
    "* video_share_count         \n",
    "* video_download_count      \n",
    "* video_comment_count   "
   ]
  },
  {
   "cell_type": "code",
   "execution_count": null,
   "metadata": {},
   "outputs": [],
   "source": [
    "import seaborn as sns\n",
    "import matplotlib.pyplot as plt\n",
    "\n",
    "# List of numerical columns\n",
    "numerical_columns = [\n",
    "    'video_duration_sec', \n",
    "    'video_view_count', \n",
    "    'video_like_count', \n",
    "    'video_share_count', \n",
    "    'video_download_count', \n",
    "    'video_comment_count'\n",
    "]\n",
    "\n",
    "# Convert columns to numeric, coercing errors to NaN\n",
    "for col in numerical_columns:\n",
    "    df[col] = pd.to_numeric(df[col], errors='coerce')\n",
    "\n",
    "# Create a figure and axes\n",
    "fig, axes = plt.subplots(6, 2, figsize=(15, 30))\n",
    "\n",
    "# Flatten the axes array for easy iteration\n",
    "axes = axes.flatten()\n",
    "\n",
    "# Plot each numerical column as a horizontal boxplot and histogram\n",
    "for i, col in enumerate(numerical_columns):\n",
    "    sns.boxplot(x=df[col], ax=axes[2*i], orient='h')\n",
    "    axes[2*i].set_title(f'Boxplot of {col}')\n",
    "    \n",
    "    sns.histplot(df[col], ax=axes[2*i + 1], kde=True)\n",
    "    axes[2*i + 1].set_title(f'Histogram of {col}')\n",
    "\n",
    "# Adjust layout\n",
    "plt.tight_layout()\n",
    "plt.show()"
   ]
  },
  {
   "cell_type": "markdown",
   "metadata": {},
   "source": [
    "\n",
    "\n",
    "all variables behave in a similar manner, where the majority of the data is concentrated in the lower values, with outliers in the higher values. except **video duration**, which has a more uniform distribution."
   ]
  },
  {
   "cell_type": "markdown",
   "metadata": {},
   "source": [
    "## Analysis of categorical variables:\n",
    "\n",
    "### Claim by verification status  \n",
    "\n",
    "the variable `claim_status` has information about whether the published video has been identified as an “opinion” or a “claim.” In this dataset, an “opinion” refers to an individual’s or group’s personal belief or thought. A “claim” refers to information that is either unsourced or from a unverified source.\n",
    "\n",
    "`verified_Status` Indicates the status of the TikTok user who published the video in terms of their verification, either “verified” or “not verified.” \n",
    "\n",
    "To show how these two categorical variables are related, we can plot two bar plots side by side to compare the distribution of the `claim_status` and `verified_status` variables."
   ]
  },
  {
   "cell_type": "code",
   "execution_count": 24,
   "metadata": {},
   "outputs": [
    {
     "data": {
      "image/png": "[encoded data removed]",
      "text/plain": [
       "<Figure size 640x480 with 1 Axes>"
      ]
     },
     "metadata": {},
     "output_type": "display_data"
    }
   ],
   "source": [
    "sns.histplot(data=df,\n",
    "             x='claim_status',\n",
    "             hue='verified_status',\n",
    "             multiple='dodge',\n",
    "             shrink=0.9)\n",
    "plt.title('Claims by verification status histogram')\n",
    "plt.show()"
   ]
  },
  {
   "cell_type": "markdown",
   "metadata": {},
   "source": [
    "this plot is giving us important information for this stage of the data exploration process, besides the actual shapes of the verified status in the claim and opinion groups, there is a third group of videos that are not classified as either claim or opinion, and this group has a higher proportion of non verified users."
   ]
  }
 ],
 "metadata": {
  "kernelspec": {
   "display_name": "venv",
   "language": "python",
   "name": "python3"
  },
  "language_info": {
   "codemirror_mode": {
    "name": "ipython",
    "version": 3
   },
   "file_extension": ".py",
   "mimetype": "text/x-python",
   "name": "python",
   "nbconvert_exporter": "python",
   "pygments_lexer": "ipython3",
   "version": "3.12.1"
  }
 },
 "nbformat": 4,
 "nbformat_minor": 2
}
