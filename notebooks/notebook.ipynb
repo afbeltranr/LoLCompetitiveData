{
 "cells": [
  {
   "cell_type": "code",
   "execution_count": 1,
   "metadata": {},
   "outputs": [
    {
     "name": "stdout",
     "output_type": "stream",
     "text": [
      "Environment variable not set. Please set GOOGLE_APPLICATION_CREDENTIALS.\n",
      "None\n"
     ]
    }
   ],
   "source": [
    "import os\n",
    "from google.oauth2.service_account import Credentials\n",
    "\n",
    "# Get the path from the environment variable\n",
    "json_path = os.getenv(\"GOOGLE_APPLICATION_CREDENTIALS\")\n",
    "\n",
    "if json_path:\n",
    "    # Authenticate with the Google API\n",
    "    credentials = Credentials.from_service_account_file(json_path)\n",
    "    print(\"Credentials loaded successfully!\")\n",
    "else:\n",
    "    print(\"Environment variable not set. Please set GOOGLE_APPLICATION_CREDENTIALS.\")\n",
    "\n",
    "print(json_path)"
   ]
  }
 ],
 "metadata": {
  "kernelspec": {
   "display_name": "Python 3",
   "language": "python",
   "name": "python3"
  },
  "language_info": {
   "codemirror_mode": {
    "name": "ipython",
    "version": 3
   },
   "file_extension": ".py",
   "mimetype": "text/x-python",
   "name": "python",
   "nbconvert_exporter": "python",
   "pygments_lexer": "ipython3",
   "version": "3.12.1"
  }
 },
 "nbformat": 4,
 "nbformat_minor": 2
}
