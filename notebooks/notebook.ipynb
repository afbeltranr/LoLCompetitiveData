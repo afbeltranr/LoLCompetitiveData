{
 "cells": [
  {
   "cell_type": "code",
   "execution_count": null,
   "metadata": {},
   "outputs": [],
   "source": [
    "import os\n",
    "from google.oauth2.service_account import Credentials\n",
    "\n",
    "# Get the path from the environment variable\n",
    "json_path = os.getenv(\"GOOGLE_APPLICATION_CREDENTIALS\")\n",
    "\n",
    "print(\"Path to the JSON file: \", json_path)"
   ]
  },
  {
   "cell_type": "code",
   "execution_count": 4,
   "metadata": {},
   "outputs": [
    {
     "name": "stdout",
     "output_type": "stream",
     "text": [
      "   # claim_status    video_id  video_duration_sec  \\\n",
      "0  1        claim  7017666017                  59   \n",
      "1  2        claim  4014381136                  32   \n",
      "2  3        claim  9859838091                  31   \n",
      "3  4        claim  1866847991                  25   \n",
      "4  5        claim  7105231098                  19   \n",
      "\n",
      "                            video_transcription_text verified_status  \\\n",
      "0  someone shared with me that drone deliveries a...    not verified   \n",
      "1  someone shared with me that there are more mic...    not verified   \n",
      "2  someone shared with me that american industria...    not verified   \n",
      "3  someone shared with me that the metro of st. p...    not verified   \n",
      "4  someone shared with me that the number of busi...    not verified   \n",
      "\n",
      "  author_ban_status video_view_count video_like_count video_share_count  \\\n",
      "0      under review           343296            19425               241   \n",
      "1            active           140877            77355             19034   \n",
      "2            active           902185            97690              2858   \n",
      "3            active           437506           239954             34812   \n",
      "4            active            56167            34987              4110   \n",
      "\n",
      "  video_download_count video_comment_count  \n",
      "0                    1                   0  \n",
      "1                 1161                 684  \n",
      "2                  833                 329  \n",
      "3                 1234                 584  \n",
      "4                  547                 152  \n"
     ]
    }
   ],
   "source": [
    "import os\n",
    "import gspread\n",
    "from google.auth.transport.requests import Request\n",
    "from google.oauth2.service_account import Credentials\n",
    "import pandas as pd\n",
    "\n",
    "# Step 1: Load the environment variable\n",
    "json_path = os.getenv(\"GOOGLE_APPLICATION_CREDENTIALS\")\n",
    "if not json_path:\n",
    "    raise FileNotFoundError(\"Environment variable GOOGLE_APPLICATION_CREDENTIALS is not set or file path is invalid.\")\n",
    "\n",
    "# Step 2: Authenticate using the service account JSON file\n",
    "scopes = [\"https://www.googleapis.com/auth/spreadsheets.readonly\"]\n",
    "credentials = Credentials.from_service_account_file(json_path, scopes=scopes)\n",
    "\n",
    "# Step 3: Authorize the gspread client\n",
    "client = gspread.authorize(credentials)\n",
    "\n",
    "# Step 4: Open the Google Sheet by URL\n",
    "spreadsheet_url = \"https://docs.google.com/spreadsheets/d/1f7jIcEzhLiO2EhVZro8oUdNgm2AGaC5po8QNiuQggG4/edit?usp=sharing\"\n",
    "spreadsheet = client.open_by_url(spreadsheet_url)\n",
    "\n",
    "# Step 5: Select the worksheet (e.g., first worksheet)\n",
    "worksheet = spreadsheet.get_worksheet(0)\n",
    "\n",
    "# Step 6: Load data into a pandas DataFrame\n",
    "data = worksheet.get_all_records()\n",
    "df = pd.DataFrame(data)\n",
    "\n",
    "# Display the first few rows\n",
    "print(df.head())\n"
   ]
  }
 ],
 "metadata": {
  "kernelspec": {
   "display_name": "venv",
   "language": "python",
   "name": "python3"
  },
  "language_info": {
   "codemirror_mode": {
    "name": "ipython",
    "version": 3
   },
   "file_extension": ".py",
   "mimetype": "text/x-python",
   "name": "python",
   "nbconvert_exporter": "python",
   "pygments_lexer": "ipython3",
   "version": "3.12.1"
  }
 },
 "nbformat": 4,
 "nbformat_minor": 2
}
